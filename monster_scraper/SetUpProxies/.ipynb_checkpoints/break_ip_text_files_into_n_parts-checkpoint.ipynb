{
 "cells": [
  {
   "cell_type": "markdown",
   "metadata": {},
   "source": [
    "# Ref: https://codelike.pro/create-a-crawler-with-rotating-ip-proxy-in-python/"
   ]
  },
  {
   "cell_type": "markdown",
   "metadata": {},
   "source": [
    "# Import Libraries"
   ]
  },
  {
   "cell_type": "code",
   "execution_count": 8,
   "metadata": {},
   "outputs": [],
   "source": [
    "# Get the text data from the first job posting\n",
    "import pandas as pd\n",
    "import requests # For website connections\n",
    "from bs4 import BeautifulSoup # For HTML parsing\n",
    "import time\n",
    "from fake_useragent import UserAgent\n",
    "import random\n",
    "import math"
   ]
  },
  {
   "cell_type": "code",
   "execution_count": 9,
   "metadata": {},
   "outputs": [],
   "source": [
    "#Download New HTTPS IPs .txt file from https://www.proxy-list.download/HTTPS\n",
    "https_proxys = pd.read_csv('HttpsProxyList.txt', sep=\" \", header=None)\n",
    "#Convert to array\n",
    "https_proxys = https_proxys[0].values\n",
    "#Convert to list\n",
    "https_proxys = list(https_proxys)\n",
    "\n",
    "#Download New HTTPS IPs .txt file from https://www.proxy-list.download/HTTP\n",
    "http_proxys = pd.read_csv('HttpProxyList.txt', sep=\" \", header=None)\n",
    "#Convert to array\n",
    "http_proxys = http_proxys[0].values\n",
    "#Convert to list\n",
    "http_proxys = list(http_proxys)"
   ]
  },
  {
   "cell_type": "code",
   "execution_count": 10,
   "metadata": {},
   "outputs": [],
   "source": [
    "#Create a Library to store the huge list of proxies\n",
    "proxies = {}\n",
    "proxies['https'] = https_proxys\n",
    "proxies['http'] = http_proxys"
   ]
  },
  {
   "cell_type": "code",
   "execution_count": 11,
   "metadata": {},
   "outputs": [
    {
     "name": "stdout",
     "output_type": "stream",
     "text": [
      "1\n",
      "2\n",
      "3\n",
      "1\n",
      "2\n",
      "3\n"
     ]
    }
   ],
   "source": [
    "#Split the text file into parts and store parts in dictionary\n",
    "text_parts = {'https':{},'http':{}}\n",
    "#turn into n separate parts\n",
    "parts=3\n",
    "for proxy_type in proxies:\n",
    "    length = len(proxies[proxy_type])\n",
    "    for i in range(parts):\n",
    "        i+=1\n",
    "        print(i)\n",
    "        part =  proxies[proxy_type][int(math.ceil(length*(i-1)/parts)):int(math.floor(length*i/parts))]\n",
    "        text_parts[proxy_type]['part'+str(i)] = part"
   ]
  },
  {
   "cell_type": "code",
   "execution_count": 12,
   "metadata": {},
   "outputs": [
    {
     "name": "stdout",
     "output_type": "stream",
     "text": [
      "679\n",
      "679\n",
      "4386\n",
      "4386\n"
     ]
    }
   ],
   "source": [
    "#Check that length match\n",
    "x=0\n",
    "print(len(https_proxys))\n",
    "for part in text_parts['https']:\n",
    "    x = x+len(text_parts['https'][part])\n",
    "print(x)\n",
    "\n",
    "x=0\n",
    "print(len(http_proxys))\n",
    "for part in text_parts['http']:\n",
    "    x = x+len(text_parts['http'][part])\n",
    "print(x)\n"
   ]
  },
  {
   "cell_type": "code",
   "execution_count": 13,
   "metadata": {},
   "outputs": [],
   "source": [
    "#Convert each part into a text file\n",
    "count = -1\n",
    "for part in text_parts['http']: \n",
    "    count +=1\n",
    "    with open('proxyLists/http_proxys_part_{}.txt'.format(count), \"w\") as output:\n",
    "        for line in text_parts['http'][part]:\n",
    "            output.write(\"%s\\n\" % line)"
   ]
  },
  {
   "cell_type": "code",
   "execution_count": 14,
   "metadata": {},
   "outputs": [],
   "source": [
    "#Convert each part into a text file\n",
    "count = -1\n",
    "for part in text_parts['https']: \n",
    "    count +=1\n",
    "    with open('proxyLists/https_proxys_part_{}.txt'.format(count), \"w\") as output:\n",
    "        for line in text_parts['https'][part]:\n",
    "            output.write(\"%s\\n\" % line)"
   ]
  },
  {
   "cell_type": "markdown",
   "metadata": {},
   "source": [
    "# Create empty text file for aggregating the filtered proxys"
   ]
  },
  {
   "cell_type": "code",
   "execution_count": 15,
   "metadata": {},
   "outputs": [
    {
     "data": {
      "text/plain": [
       "<open file '../filtered_http_proxys_US.txt', mode 'a+' at 0x11f62a810>"
      ]
     },
     "execution_count": 15,
     "metadata": {},
     "output_type": "execute_result"
    }
   ],
   "source": [
    "# create file for filtered http proxys to .txt file\n",
    "open('../filtered_http_proxys.txt', \"a+\")"
   ]
  },
  {
   "cell_type": "code",
   "execution_count": 16,
   "metadata": {},
   "outputs": [
    {
     "data": {
      "text/plain": [
       "<open file '../filtered_https_proxys_US.txt', mode 'a+' at 0x1216da930>"
      ]
     },
     "execution_count": 16,
     "metadata": {},
     "output_type": "execute_result"
    }
   ],
   "source": [
    "# create file for filtered https proxies to text file\n",
    "open('../filtered_https_proxys.txt', \"a+\")"
   ]
  },
  {
   "cell_type": "code",
   "execution_count": null,
   "metadata": {},
   "outputs": [],
   "source": []
  }
 ],
 "metadata": {
  "kernelspec": {
   "display_name": "Python 2",
   "language": "python",
   "name": "python2"
  },
  "language_info": {
   "codemirror_mode": {
    "name": "ipython",
    "version": 2
   },
   "file_extension": ".py",
   "mimetype": "text/x-python",
   "name": "python",
   "nbconvert_exporter": "python",
   "pygments_lexer": "ipython2",
   "version": "2.7.15"
  }
 },
 "nbformat": 4,
 "nbformat_minor": 2
}
