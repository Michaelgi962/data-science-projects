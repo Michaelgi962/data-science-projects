{
 "cells": [
  {
   "cell_type": "markdown",
   "metadata": {},
   "source": [
    "# Ref: https://codelike.pro/create-a-crawler-with-rotating-ip-proxy-in-python/"
   ]
  },
  {
   "cell_type": "markdown",
   "metadata": {},
   "source": [
    "# Import Libraries"
   ]
  },
  {
   "cell_type": "code",
   "execution_count": 1,
   "metadata": {},
   "outputs": [],
   "source": [
    "# Get the text data from the first job posting\n",
    "import pandas as pd\n",
    "import requests # For website connections\n",
    "from bs4 import BeautifulSoup # For HTML parsing\n",
    "import time\n",
    "from fake_useragent import UserAgent\n",
    "import random\n",
    "import math"
   ]
  },
  {
   "cell_type": "code",
   "execution_count": 2,
   "metadata": {},
   "outputs": [],
   "source": [
    "#Download New US filtered HTTPS IPs .txt file from https://www.proxy-list.download/HTTPS\n",
    "https_proxys = pd.read_csv('HttpsProxyList_US.txt', sep=\" \", header=None)\n",
    "#Convert to array\n",
    "https_proxys = https_proxys[0].values\n",
    "#Convert to list\n",
    "https_proxys = list(https_proxys)\n",
    "\n",
    "#Download New US filtered HTTPS IPs .txt file from https://www.proxy-list.download/HTTP\n",
    "http_proxys = pd.read_csv('HttpProxyList_US.txt', sep=\" \", header=None)\n",
    "#Convert to array\n",
    "http_proxys = http_proxys[0].values\n",
    "#Convert to list\n",
    "http_proxys = list(http_proxys)"
   ]
  },
  {
   "cell_type": "code",
   "execution_count": 3,
   "metadata": {},
   "outputs": [],
   "source": [
    "#Create a Library to store the huge list of proxies\n",
    "proxies = {}\n",
    "proxies['https'] = https_proxys\n",
    "proxies['http'] = http_proxys"
   ]
  },
  {
   "cell_type": "code",
   "execution_count": 4,
   "metadata": {},
   "outputs": [
    {
     "name": "stdout",
     "output_type": "stream",
     "text": [
      "1\n",
      "2\n",
      "3\n",
      "1\n",
      "2\n",
      "3\n"
     ]
    }
   ],
   "source": [
    "#Split the text file into parts and store parts in dictionary\n",
    "text_parts = {'https':{},'http':{}}\n",
    "#turn into n separate parts\n",
    "parts=3\n",
    "for proxy_type in proxies:\n",
    "    length = len(proxies[proxy_type])\n",
    "    for i in range(parts):\n",
    "        i+=1\n",
    "        print(i)\n",
    "        part =  proxies[proxy_type][int(math.ceil(length*(i-1)/parts)):int(math.floor(length*i/parts))]\n",
    "        text_parts[proxy_type]['part'+str(i)] = part"
   ]
  },
  {
   "cell_type": "code",
   "execution_count": 5,
   "metadata": {},
   "outputs": [
    {
     "name": "stdout",
     "output_type": "stream",
     "text": [
      "6089\n",
      "6089\n",
      "10\n",
      "10\n"
     ]
    }
   ],
   "source": [
    "#Check that length match\n",
    "x=0\n",
    "print(len(https_proxys))\n",
    "for part in text_parts['https']:\n",
    "    x = x+len(text_parts['https'][part])\n",
    "print(x)\n",
    "\n",
    "x=0\n",
    "print(len(http_proxys))\n",
    "for part in text_parts['http']:\n",
    "    x = x+len(text_parts['http'][part])\n",
    "print(x)\n"
   ]
  },
  {
   "cell_type": "code",
   "execution_count": 6,
   "metadata": {},
   "outputs": [],
   "source": [
    "#Convert each part into a text file\n",
    "count = -1\n",
    "for part in text_parts['http']: \n",
    "    count +=1\n",
    "    with open('proxyLists/http_proxys_US_part_{}.txt'.format(count), \"w\") as output:\n",
    "        for line in text_parts['http'][part]:\n",
    "            output.write(\"%s\\n\" % line)"
   ]
  },
  {
   "cell_type": "code",
   "execution_count": 7,
   "metadata": {},
   "outputs": [],
   "source": [
    "#Convert each part into a text file\n",
    "count = -1\n",
    "for part in text_parts['https']: \n",
    "    count +=1\n",
    "    with open('proxyLists/https_proxys_US_part_{}.txt'.format(count), \"w\") as output:\n",
    "        for line in text_parts['https'][part]:\n",
    "            output.write(\"%s\\n\" % line)"
   ]
  },
  {
   "cell_type": "markdown",
   "metadata": {},
   "source": [
    "# Create empty text file for aggregating the filtered proxys"
   ]
  },
  {
   "cell_type": "code",
   "execution_count": 8,
   "metadata": {},
   "outputs": [
    {
     "data": {
      "text/plain": [
       "<open file '../filtered_http_proxys_US.txt', mode 'a+' at 0x120a2b660>"
      ]
     },
     "execution_count": 8,
     "metadata": {},
     "output_type": "execute_result"
    }
   ],
   "source": [
    "# create file for filtered http proxys to .txt file\n",
    "open('../filtered_http_proxys_US.txt', \"a+\")"
   ]
  },
  {
   "cell_type": "code",
   "execution_count": 9,
   "metadata": {},
   "outputs": [
    {
     "data": {
      "text/plain": [
       "<open file '../filtered_https_proxys_US.txt', mode 'a+' at 0x120a2b810>"
      ]
     },
     "execution_count": 9,
     "metadata": {},
     "output_type": "execute_result"
    }
   ],
   "source": [
    "# create file for filtered https proxies to text file\n",
    "open('../filtered_https_proxys_US.txt', \"a+\")"
   ]
  },
  {
   "cell_type": "code",
   "execution_count": null,
   "metadata": {},
   "outputs": [],
   "source": []
  },
  {
   "cell_type": "code",
   "execution_count": null,
   "metadata": {},
   "outputs": [],
   "source": []
  },
  {
   "cell_type": "code",
   "execution_count": null,
   "metadata": {},
   "outputs": [],
   "source": []
  }
 ],
 "metadata": {
  "kernelspec": {
   "display_name": "Python 2",
   "language": "python",
   "name": "python2"
  },
  "language_info": {
   "codemirror_mode": {
    "name": "ipython",
    "version": 2
   },
   "file_extension": ".py",
   "mimetype": "text/x-python",
   "name": "python",
   "nbconvert_exporter": "python",
   "pygments_lexer": "ipython2",
   "version": "2.7.15"
  }
 },
 "nbformat": 4,
 "nbformat_minor": 2
}
